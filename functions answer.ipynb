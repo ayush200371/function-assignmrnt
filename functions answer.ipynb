{
  "cells": [
    {
      "cell_type": "markdown",
      "id": "a02e8817",
      "metadata": {
        "id": "a02e8817"
      },
      "source": [
        "# Python Functions Assignment\n",
        "---\n",
        "### Theory Questions with Examples"
      ]
    },
    {
      "cell_type": "markdown",
      "id": "a8cfa874",
      "metadata": {
        "id": "a8cfa874"
      },
      "source": [
        "**1. What is the difference between a function and a method in Python?**\n",
        "\n",
        "- A **function** is a block of code that is defined using `def` and is not necessarily tied to a specific object.\n",
        "- A **method** is a function that is associated with an object and is called using dot notation.\n",
        "\n",
        "**Example:**\n",
        "```python\n",
        "# Function\n",
        "def greet():\n",
        "    print(\"Hello\")\n",
        "greet()\n",
        "\n",
        "# Method\n",
        "s = \"hello\"\n",
        "print(s.upper())  # upper() is a method of string\n",
        "```"
      ]
    },
    {
      "cell_type": "markdown",
      "id": "6505d484",
      "metadata": {
        "id": "6505d484"
      },
      "source": [
        "**2. Explain the concept of function arguments and parameters in Python.**\n",
        "\n",
        "- **Parameters** are the variables listed in the function definition.\n",
        "- **Arguments** are the actual values passed to the function.\n",
        "\n",
        "**Example:**\n",
        "```python\n",
        "def add(a, b):  # a and b are parameters\n",
        "    return a + b\n",
        "\n",
        "print(add(5, 3))  # 5 and 3 are arguments\n",
        "```"
      ]
    },
    {
      "cell_type": "markdown",
      "id": "518a2be7",
      "metadata": {
        "id": "518a2be7"
      },
      "source": [
        "**3. Different ways to define and call a function in Python:**\n",
        "\n",
        "- Define using `def` or `lambda`.\n",
        "- Call using function name and parentheses.\n",
        "\n",
        "**Example:**\n",
        "```python\n",
        "def say_hi(name):\n",
        "    return f\"Hi {name}\"\n",
        "\n",
        "print(say_hi(\"Alice\"))\n",
        "\n",
        "# Lambda function\n",
        "square = lambda x: x * x\n",
        "print(square(5))\n",
        "```"
      ]
    },
    {
      "cell_type": "markdown",
      "id": "3a6dc4e5",
      "metadata": {
        "id": "3a6dc4e5"
      },
      "source": [
        "**4. Purpose of `return` statement in a Python function:**\n",
        "\n",
        "- It is used to send a result back from the function.\n",
        "\n",
        "**Example:**\n",
        "```python\n",
        "def multiply(a, b):\n",
        "    return a * b\n",
        "result = multiply(2, 4)\n",
        "print(result)\n",
        "```"
      ]
    },
    {
      "cell_type": "markdown",
      "id": "e9e9376e",
      "metadata": {
        "id": "e9e9376e"
      },
      "source": [
        "**5. What are iterators and how do they differ from iterables?**\n",
        "\n",
        "- **Iterable:** An object with `__iter__()` method.\n",
        "- **Iterator:** An object with `__next__()` method.\n",
        "\n",
        "**Example:**\n",
        "```python\n",
        "lst = [1, 2, 3]  # iterable\n",
        "it = iter(lst)  # iterator\n",
        "print(next(it))\n",
        "```"
      ]
    },
    {
      "cell_type": "markdown",
      "id": "59dfa1fd",
      "metadata": {
        "id": "59dfa1fd"
      },
      "source": [
        "**6. Generators in Python:**\n",
        "\n",
        "- Generators use `yield` instead of `return`.\n",
        "\n",
        "**Example:**\n",
        "```python\n",
        "def gen():\n",
        "    for i in range(3):\n",
        "        yield i\n",
        "for val in gen():\n",
        "    print(val)\n",
        "```"
      ]
    },
    {
      "cell_type": "markdown",
      "id": "00633065",
      "metadata": {
        "id": "00633065"
      },
      "source": [
        "**7. Advantages of generators over regular functions:**\n",
        "\n",
        "- Memory-efficient (lazy evaluation)\n",
        "- Can be used to represent infinite sequences\n"
      ]
    },
    {
      "cell_type": "markdown",
      "id": "7b47957a",
      "metadata": {
        "id": "7b47957a"
      },
      "source": [
        "**8. What is a lambda function in Python?**\n",
        "\n",
        "- Anonymous function defined using `lambda` keyword.\n",
        "\n",
        "**Example:**\n",
        "```python\n",
        "add = lambda a, b: a + b\n",
        "print(add(2, 3))\n",
        "```"
      ]
    },
    {
      "cell_type": "markdown",
      "id": "b2e0c330",
      "metadata": {
        "id": "b2e0c330"
      },
      "source": [
        "**9. Purpose and usage of `map()` function:**\n",
        "\n",
        "- Applies a function to each item in an iterable.\n",
        "\n",
        "**Example:**\n",
        "```python\n",
        "nums = [1, 2, 3]\n",
        "squares = list(map(lambda x: x*x, nums))\n",
        "print(squares)\n",
        "```"
      ]
    },
    {
      "cell_type": "markdown",
      "id": "106bafd1",
      "metadata": {
        "id": "106bafd1"
      },
      "source": [
        "**10. Difference between `map()`, `reduce()`, and `filter()`:**\n",
        "\n",
        "- `map(func, seq)`: applies `func` to all elements.\n",
        "- `filter(func, seq)`: returns elements where `func(elem)` is `True`.\n",
        "- `reduce(func, seq)`: repeatedly applies `func`, reducing to a single value.\n",
        "\n",
        "**Example:**\n",
        "```python\n",
        "from functools import reduce\n",
        "nums = [1, 2, 3, 4]\n",
        "print(reduce(lambda x, y: x + y, nums))\n",
        "```"
      ]
    },
    {
      "cell_type": "markdown",
      "id": "2cc44b59",
      "metadata": {
        "id": "2cc44b59"
      },
      "source": [
        "**11. Pen & Paper reduce internal mechanism**\n",
        "\n",
        "📌 *Attach image here after printing and writing manually for list: [47,11,42,13]*"
      ]
    },
    {
      "cell_type": "markdown",
      "id": "d4f46653",
      "metadata": {
        "id": "d4f46653"
      },
      "source": [
        "---\n",
        "### Practical Questions"
      ]
    },
    {
      "cell_type": "code",
      "execution_count": null,
      "id": "9f13509f",
      "metadata": {
        "id": "9f13509f"
      },
      "outputs": [],
      "source": [
        "# 1. Sum of even numbers in list\n",
        "def sum_even(lst):\n",
        "    return sum(x for x in lst if x % 2 == 0)\n",
        "sum_even([1, 2, 3, 4, 5, 6])"
      ]
    },
    {
      "cell_type": "code",
      "execution_count": null,
      "id": "e46395f2",
      "metadata": {
        "id": "e46395f2"
      },
      "outputs": [],
      "source": [
        "# 2. Reverse a string\n",
        "def reverse_string(s):\n",
        "    return s[::-1]\n",
        "reverse_string(\"hello\")"
      ]
    },
    {
      "cell_type": "code",
      "execution_count": null,
      "id": "1005fbb9",
      "metadata": {
        "id": "1005fbb9"
      },
      "outputs": [],
      "source": [
        "# 3. Square of each number\n",
        "def square_list(lst):\n",
        "    return [x**2 for x in lst]\n",
        "square_list([1, 2, 3])"
      ]
    },
    {
      "cell_type": "code",
      "execution_count": null,
      "id": "b05f4762",
      "metadata": {
        "id": "b05f4762"
      },
      "outputs": [],
      "source": [
        "# 4. Check prime numbers from 1 to 200\n",
        "def is_prime(n):\n",
        "    if n < 2:\n",
        "        return False\n",
        "    for i in range(2, int(n ** 0.5) + 1):\n",
        "        if n % i == 0:\n",
        "            return False\n",
        "    return True\n",
        "\n",
        "primes = [x for x in range(1, 201) if is_prime(x)]\n",
        "primes"
      ]
    },
    {
      "cell_type": "code",
      "execution_count": null,
      "id": "1cf71b56",
      "metadata": {
        "id": "1cf71b56"
      },
      "outputs": [],
      "source": [
        "# 5. Iterator class for Fibonacci\n",
        "class Fibonacci:\n",
        "    def __init__(self, max_terms):\n",
        "        self.max = max_terms\n",
        "        self.a, self.b = 0, 1\n",
        "        self.count = 0\n",
        "\n",
        "    def __iter__(self):\n",
        "        return self\n",
        "\n",
        "    def __next__(self):\n",
        "        if self.count >= self.max:\n",
        "            raise StopIteration\n",
        "        self.a, self.b = self.b, self.a + self.b\n",
        "        self.count += 1\n",
        "        return self.a\n",
        "\n",
        "fib = Fibonacci(10)\n",
        "list(fib)"
      ]
    },
    {
      "cell_type": "code",
      "execution_count": null,
      "id": "c49817aa",
      "metadata": {
        "id": "c49817aa"
      },
      "outputs": [],
      "source": [
        "# 6. Generator: powers of 2\n",
        "def powers_of_two(n):\n",
        "    for i in range(n+1):\n",
        "        yield 2 ** i\n",
        "\n",
        "list(powers_of_two(5))"
      ]
    },
    {
      "cell_type": "code",
      "execution_count": null,
      "id": "266e7953",
      "metadata": {
        "id": "266e7953"
      },
      "outputs": [],
      "source": [
        "# 7. Generator: read file line by line\n",
        "def read_lines(filename):\n",
        "    with open(filename) as f:\n",
        "        for line in f:\n",
        "            yield line.strip()\n",
        "\n",
        "# Example usage (requires a file):\n",
        "# for line in read_lines(\"sample.txt\"):\n",
        "#     print(line)"
      ]
    },
    {
      "cell_type": "code",
      "execution_count": null,
      "id": "4c64ceb0",
      "metadata": {
        "id": "4c64ceb0"
      },
      "outputs": [],
      "source": [
        "# 8. Lambda sort by second element\n",
        "tuples = [(1, 3), (2, 1), (3, 2)]\n",
        "sorted_tuples = sorted(tuples, key=lambda x: x[1])\n",
        "sorted_tuples"
      ]
    },
    {
      "cell_type": "code",
      "execution_count": null,
      "id": "e7a575d0",
      "metadata": {
        "id": "e7a575d0"
      },
      "outputs": [],
      "source": [
        "# 9. Celsius to Fahrenheit using map\n",
        "celsius = [0, 10, 20, 30]\n",
        "fahrenheit = list(map(lambda c: (9/5)*c + 32, celsius))\n",
        "fahrenheit"
      ]
    },
    {
      "cell_type": "code",
      "execution_count": null,
      "id": "a9c4b747",
      "metadata": {
        "id": "a9c4b747"
      },
      "outputs": [],
      "source": [
        "# 10. Remove vowels using filter\n",
        "s = \"hello world\"\n",
        "result = ''.join(filter(lambda x: x.lower() not in 'aeiou', s))\n",
        "result"
      ]
    },
    {
      "cell_type": "code",
      "execution_count": null,
      "id": "45720f07",
      "metadata": {
        "id": "45720f07"
      },
      "outputs": [],
      "source": [
        "# 11. Accounting routine using lambda and map\n",
        "orders = [\n",
        "    [\"34587\", \"Learning Python\", 4, 40.95],\n",
        "    [\"98762\", \"Programming Python\", 5, 56.80],\n",
        "    [\"77226\", \"Head First Python\", 3, 32.95],\n",
        "    [\"88112\", \"Einführung in Python3\", 3, 24.99]\n",
        "]\n",
        "\n",
        "final_orders = list(map(lambda order: (order[0], order[2]*order[3] + (10 if order[2]*order[3] < 100 else 0)), orders))\n",
        "final_orders"
      ]
    }
  ],
  "metadata": {
    "colab": {
      "provenance": []
    }
  },
  "nbformat": 4,
  "nbformat_minor": 5
}